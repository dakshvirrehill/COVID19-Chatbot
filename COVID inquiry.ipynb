{
 "cells": [
  {
   "cell_type": "code",
   "execution_count": 1,
   "metadata": {},
   "outputs": [],
   "source": [
    "import nltk\n",
    "from nltk.stem.lancaster import LancasterStemmer\n",
    "stemmer = LancasterStemmer()"
   ]
  },
  {
   "cell_type": "code",
   "execution_count": 2,
   "metadata": {},
   "outputs": [
    {
     "name": "stdout",
     "output_type": "stream",
     "text": [
      "WARNING:tensorflow:From C:\\NiksBot\\envs\\aidi1100\\lib\\site-packages\\tensorflow_core\\python\\compat\\v2_compat.py:68: disable_resource_variables (from tensorflow.python.ops.variable_scope) is deprecated and will be removed in a future version.\n",
      "Instructions for updating:\n",
      "non-resource variables are not supported in the long term\n",
      "curses is not supported on this machine (please install/reinstall curses for an optimal experience)\n"
     ]
    }
   ],
   "source": [
    "import numpy as np\n",
    "import tflearn\n",
    "import tensorflow as tf\n",
    "import random\n",
    "import csv"
   ]
  },
  {
   "cell_type": "code",
   "execution_count": 3,
   "metadata": {},
   "outputs": [],
   "source": [
    "#Get data from files\n",
    "def get_data_from_file(file):\n",
    "    d = []\n",
    "    with open(file) as f:\n",
    "        data = csv.reader(f)\n",
    "        for row in data:\n",
    "            d.append(row)\n",
    "    #removing label row from the list\n",
    "    d.pop(0)\n",
    "    return d"
   ]
  },
  {
   "cell_type": "code",
   "execution_count": 4,
   "metadata": {},
   "outputs": [],
   "source": [
    "#tokenization\n",
    "def tokenizor(data):\n",
    "    #to save all the words in the intent file\n",
    "    words = []\n",
    "    labels = []\n",
    "    doc_x = []\n",
    "    doc_y = []\n",
    "    for pattern in data:\n",
    "        wrds = nltk.word_tokenize(pattern[0])\n",
    "        words.extend(wrds)\n",
    "        doc_x.append(wrds)\n",
    "        doc_y.append(pattern[1])\n",
    "        if pattern[1] not in labels:\n",
    "            labels.append(pattern[1])\n",
    "    return words, labels, doc_x, doc_y"
   ]
  },
  {
   "cell_type": "code",
   "execution_count": 5,
   "metadata": {},
   "outputs": [],
   "source": [
    "data = get_data_from_file(\"QuestionIntent.csv\")"
   ]
  },
  {
   "cell_type": "code",
   "execution_count": 6,
   "metadata": {},
   "outputs": [],
   "source": [
    "words, labels, doc_x, doc_y = tokenizor(data)"
   ]
  },
  {
   "cell_type": "code",
   "execution_count": 7,
   "metadata": {},
   "outputs": [
    {
     "data": {
      "text/plain": [
       "['(',\n",
       " ')',\n",
       " ',',\n",
       " '-19',\n",
       " '.',\n",
       " 'a',\n",
       " 'abl',\n",
       " 'about',\n",
       " 'abroad',\n",
       " 'aft',\n",
       " 'against',\n",
       " 'air',\n",
       " 'allow',\n",
       " 'am',\n",
       " 'an',\n",
       " 'and',\n",
       " 'anim',\n",
       " 'any',\n",
       " 'apart',\n",
       " 'ar',\n",
       " 'are',\n",
       " 'around',\n",
       " 'as',\n",
       " 'asymptom',\n",
       " 'at',\n",
       " 'avoid',\n",
       " 'away',\n",
       " 'bathroom',\n",
       " 'be',\n",
       " 'been',\n",
       " 'belong',\n",
       " 'between',\n",
       " 'but',\n",
       " 'by',\n",
       " 'can',\n",
       " 'canad',\n",
       " 'carry',\n",
       " 'cat',\n",
       " 'catch',\n",
       " 'caus',\n",
       " 'cdc',\n",
       " 'cle',\n",
       " 'clos',\n",
       " 'commun',\n",
       " 'complex',\n",
       " 'comply',\n",
       " 'connect',\n",
       " 'consid',\n",
       " 'contact',\n",
       " 'contamin',\n",
       " 'contract',\n",
       " 'coronavir',\n",
       " 'country',\n",
       " 'covid',\n",
       " 'covid-19',\n",
       " 'cur',\n",
       " 'develop',\n",
       " 'diagnos',\n",
       " 'died',\n",
       " 'diseas',\n",
       " 'disinfect',\n",
       " 'dist',\n",
       " 'do',\n",
       " 'doe',\n",
       " 'drink',\n",
       " 'dur',\n",
       " 'environ',\n",
       " 'ess',\n",
       " 'feel',\n",
       " 'fin',\n",
       " 'food',\n",
       " 'for',\n",
       " 'from',\n",
       " 'fun',\n",
       " 'fur',\n",
       " 'gath',\n",
       " 'gen',\n",
       " 'get',\n",
       " 'go',\n",
       " 'hand',\n",
       " 'handl',\n",
       " 'handrail',\n",
       " 'hap',\n",
       " 'has',\n",
       " 'hav',\n",
       " 'hello',\n",
       " 'help',\n",
       " 'hi',\n",
       " 'high',\n",
       " 'hom',\n",
       " 'hot',\n",
       " 'how',\n",
       " 'i',\n",
       " 'if',\n",
       " 'il',\n",
       " 'in',\n",
       " 'includ',\n",
       " 'incub',\n",
       " 'infect',\n",
       " 'inform',\n",
       " 'is',\n",
       " 'it',\n",
       " 'len',\n",
       " 'lik',\n",
       " 'long',\n",
       " 'lov',\n",
       " 'mail',\n",
       " 'mask',\n",
       " 'minim',\n",
       " 'mosquito',\n",
       " 'much',\n",
       " 'my',\n",
       " 'myself',\n",
       " 'nee',\n",
       " 'nor',\n",
       " 'not',\n",
       " 'novel',\n",
       " 'of',\n",
       " 'oft',\n",
       " 'on',\n",
       " 'or',\n",
       " 'oth',\n",
       " 'outbreak',\n",
       " 'outsid',\n",
       " 'own',\n",
       " 'pack',\n",
       " 'pass',\n",
       " 'peopl',\n",
       " 'period',\n",
       " 'person',\n",
       " 'pet',\n",
       " 'phys',\n",
       " 'plac',\n",
       " 'playground',\n",
       " 'pool',\n",
       " 'pop',\n",
       " 'poss',\n",
       " 'pot',\n",
       " 'precaut',\n",
       " 'prev',\n",
       " 'produc',\n",
       " 'protect',\n",
       " 'publ',\n",
       " 'reason',\n",
       " 'rec',\n",
       " 'receiv',\n",
       " 'recommend',\n",
       " 'reduc',\n",
       " 'refrig',\n",
       " 'report',\n",
       " 'resta',\n",
       " 'return',\n",
       " 'risk',\n",
       " 'saf',\n",
       " 'sanit',\n",
       " 'serv',\n",
       " 'sery',\n",
       " 'sev',\n",
       " 'ship',\n",
       " 'should',\n",
       " 'show',\n",
       " 'sick',\n",
       " 'skin',\n",
       " 'soap',\n",
       " 'soc',\n",
       " 'someon',\n",
       " 'spec',\n",
       " 'spread',\n",
       " 'stay',\n",
       " 'stop',\n",
       " 'such',\n",
       " 'support',\n",
       " 'surfac',\n",
       " 'symptom',\n",
       " 'tak',\n",
       " 'take-out',\n",
       " 'temp',\n",
       " 'test',\n",
       " 'that',\n",
       " 'the',\n",
       " 'their',\n",
       " 'themselv',\n",
       " 'ther',\n",
       " 'they',\n",
       " 'through',\n",
       " 'tick',\n",
       " 'to',\n",
       " 'told',\n",
       " 'touch',\n",
       " 'trac',\n",
       " 'transmit',\n",
       " 'travel',\n",
       " 'trip',\n",
       " 'tub',\n",
       " 'u.s.',\n",
       " 'us',\n",
       " 'vir',\n",
       " 'visit',\n",
       " 'warm',\n",
       " 'was',\n",
       " 'wat',\n",
       " 'wear',\n",
       " 'weath',\n",
       " 'wel',\n",
       " 'what',\n",
       " 'when',\n",
       " 'wher',\n",
       " 'who',\n",
       " 'wil',\n",
       " 'with',\n",
       " 'worry']"
      ]
     },
     "execution_count": 7,
     "metadata": {},
     "output_type": "execute_result"
    }
   ],
   "source": [
    "words = [stemmer.stem(w.lower()) for w in words if w != \"?\"]\n",
    "words = sorted(list(set(words)))\n",
    "words"
   ]
  },
  {
   "cell_type": "code",
   "execution_count": 8,
   "metadata": {},
   "outputs": [
    {
     "data": {
      "text/plain": [
       "['death',\n",
       " 'greeting',\n",
       " 'info',\n",
       " 'pets',\n",
       " 'precaution',\n",
       " 'risk',\n",
       " 'spread',\n",
       " 'tracing',\n",
       " 'trip']"
      ]
     },
     "execution_count": 8,
     "metadata": {},
     "output_type": "execute_result"
    }
   ],
   "source": [
    "labels = sorted(labels)\n",
    "labels"
   ]
  },
  {
   "cell_type": "code",
   "execution_count": 9,
   "metadata": {},
   "outputs": [
    {
     "data": {
      "text/plain": [
       "[0, 0, 0, 0, 0, 0, 0, 0, 0]"
      ]
     },
     "execution_count": 9,
     "metadata": {},
     "output_type": "execute_result"
    }
   ],
   "source": [
    "training = []\n",
    "output = []\n",
    "\n",
    "out_empty = [0 for _ in range(len(labels))]\n",
    "out_empty"
   ]
  },
  {
   "cell_type": "code",
   "execution_count": 10,
   "metadata": {},
   "outputs": [],
   "source": [
    "for x, doc in enumerate(doc_x):\n",
    "    bag = []\n",
    "    wrds = [stemmer.stem(w) for w in doc]\n",
    "    for w in words:\n",
    "        if w in wrds:\n",
    "            bag.append(1)\n",
    "        else:\n",
    "            bag.append(0)\n",
    "    output_row = out_empty[:]\n",
    "    output_row[labels.index(doc_y[x])] = 1\n",
    "    \n",
    "    training.append(bag)\n",
    "    output.append(output_row)\n"
   ]
  },
  {
   "cell_type": "code",
   "execution_count": 11,
   "metadata": {},
   "outputs": [],
   "source": [
    "training = np.array(training)\n",
    "output = np.array(output)"
   ]
  },
  {
   "cell_type": "code",
   "execution_count": 12,
   "metadata": {},
   "outputs": [
    {
     "data": {
      "text/plain": [
       "array([[1, 0, 0, 0, 0, 0, 0, 0, 0],\n",
       "       [1, 0, 0, 0, 0, 0, 0, 0, 0],\n",
       "       [1, 0, 0, 0, 0, 0, 0, 0, 0],\n",
       "       [0, 1, 0, 0, 0, 0, 0, 0, 0],\n",
       "       [0, 1, 0, 0, 0, 0, 0, 0, 0],\n",
       "       [0, 0, 1, 0, 0, 0, 0, 0, 0],\n",
       "       [0, 0, 1, 0, 0, 0, 0, 0, 0],\n",
       "       [0, 0, 1, 0, 0, 0, 0, 0, 0],\n",
       "       [0, 0, 1, 0, 0, 0, 0, 0, 0],\n",
       "       [0, 0, 1, 0, 0, 0, 0, 0, 0],\n",
       "       [0, 0, 1, 0, 0, 0, 0, 0, 0],\n",
       "       [0, 0, 1, 0, 0, 0, 0, 0, 0],\n",
       "       [0, 0, 1, 0, 0, 0, 0, 0, 0],\n",
       "       [0, 0, 1, 0, 0, 0, 0, 0, 0],\n",
       "       [0, 0, 0, 1, 0, 0, 0, 0, 0],\n",
       "       [0, 0, 0, 1, 0, 0, 0, 0, 0],\n",
       "       [0, 0, 0, 1, 0, 0, 0, 0, 0],\n",
       "       [0, 0, 0, 1, 0, 0, 0, 0, 0],\n",
       "       [0, 0, 0, 1, 0, 0, 0, 0, 0],\n",
       "       [0, 0, 0, 1, 0, 0, 0, 0, 0],\n",
       "       [0, 0, 0, 1, 0, 0, 0, 0, 0],\n",
       "       [0, 0, 0, 0, 1, 0, 0, 0, 0],\n",
       "       [0, 0, 0, 0, 1, 0, 0, 0, 0],\n",
       "       [0, 0, 0, 0, 1, 0, 0, 0, 0],\n",
       "       [0, 0, 0, 0, 1, 0, 0, 0, 0],\n",
       "       [0, 0, 0, 0, 1, 0, 0, 0, 0],\n",
       "       [0, 0, 0, 0, 1, 0, 0, 0, 0],\n",
       "       [0, 0, 0, 0, 1, 0, 0, 0, 0],\n",
       "       [0, 0, 0, 0, 1, 0, 0, 0, 0],\n",
       "       [0, 0, 0, 0, 1, 0, 0, 0, 0],\n",
       "       [0, 0, 0, 0, 1, 0, 0, 0, 0],\n",
       "       [0, 0, 0, 0, 1, 0, 0, 0, 0],\n",
       "       [0, 0, 0, 0, 1, 0, 0, 0, 0],\n",
       "       [0, 0, 0, 0, 1, 0, 0, 0, 0],\n",
       "       [0, 0, 0, 0, 1, 0, 0, 0, 0],\n",
       "       [0, 0, 0, 0, 1, 0, 0, 0, 0],\n",
       "       [0, 0, 0, 0, 0, 1, 0, 0, 0],\n",
       "       [0, 0, 0, 0, 0, 1, 0, 0, 0],\n",
       "       [0, 0, 0, 0, 0, 1, 0, 0, 0],\n",
       "       [0, 0, 0, 0, 0, 1, 0, 0, 0],\n",
       "       [0, 0, 0, 0, 0, 1, 0, 0, 0],\n",
       "       [0, 0, 0, 0, 0, 1, 0, 0, 0],\n",
       "       [0, 0, 0, 0, 0, 1, 0, 0, 0],\n",
       "       [0, 0, 0, 0, 0, 1, 0, 0, 0],\n",
       "       [0, 0, 0, 0, 0, 1, 0, 0, 0],\n",
       "       [0, 0, 0, 0, 0, 1, 0, 0, 0],\n",
       "       [0, 0, 0, 0, 0, 1, 0, 0, 0],\n",
       "       [0, 0, 0, 0, 0, 1, 0, 0, 0],\n",
       "       [0, 0, 0, 0, 0, 0, 1, 0, 0],\n",
       "       [0, 0, 0, 0, 0, 0, 1, 0, 0],\n",
       "       [0, 0, 0, 0, 0, 0, 1, 0, 0],\n",
       "       [0, 0, 0, 0, 0, 0, 1, 0, 0],\n",
       "       [0, 0, 0, 0, 0, 0, 1, 0, 0],\n",
       "       [0, 0, 0, 0, 0, 0, 1, 0, 0],\n",
       "       [0, 0, 0, 0, 0, 0, 1, 0, 0],\n",
       "       [0, 0, 0, 0, 0, 0, 1, 0, 0],\n",
       "       [0, 0, 0, 0, 0, 0, 1, 0, 0],\n",
       "       [0, 0, 0, 0, 0, 0, 1, 0, 0],\n",
       "       [0, 0, 0, 0, 0, 0, 0, 1, 0],\n",
       "       [0, 0, 0, 0, 0, 0, 0, 1, 0],\n",
       "       [0, 0, 0, 0, 0, 0, 0, 1, 0],\n",
       "       [0, 0, 0, 0, 0, 0, 0, 1, 0],\n",
       "       [0, 0, 0, 0, 0, 0, 0, 1, 0],\n",
       "       [0, 0, 0, 0, 0, 0, 0, 1, 0],\n",
       "       [0, 0, 0, 0, 0, 0, 0, 0, 1],\n",
       "       [0, 0, 0, 0, 0, 0, 0, 0, 1],\n",
       "       [0, 0, 0, 0, 0, 0, 0, 0, 1],\n",
       "       [0, 0, 0, 0, 0, 0, 0, 0, 1],\n",
       "       [0, 0, 0, 0, 0, 0, 0, 0, 1]])"
      ]
     },
     "execution_count": 12,
     "metadata": {},
     "output_type": "execute_result"
    }
   ],
   "source": [
    "output"
   ]
  },
  {
   "cell_type": "code",
   "execution_count": 13,
   "metadata": {},
   "outputs": [
    {
     "data": {
      "text/plain": [
       "211"
      ]
     },
     "execution_count": 13,
     "metadata": {},
     "output_type": "execute_result"
    }
   ],
   "source": [
    "tf.reset_default_graph()\n",
    "len(training[0])"
   ]
  },
  {
   "cell_type": "code",
   "execution_count": 14,
   "metadata": {},
   "outputs": [
    {
     "name": "stdout",
     "output_type": "stream",
     "text": [
      "WARNING:tensorflow:From C:\\NiksBot\\envs\\aidi1100\\lib\\site-packages\\tflearn\\initializations.py:165: calling TruncatedNormal.__init__ (from tensorflow.python.ops.init_ops) with dtype is deprecated and will be removed in a future version.\n",
      "Instructions for updating:\n",
      "Call initializer instance with the dtype argument instead of passing it to the constructor\n",
      "WARNING:tensorflow:From C:\\NiksBot\\envs\\aidi1100\\lib\\site-packages\\tensorflow_core\\python\\ops\\math_grad.py:1424: where (from tensorflow.python.ops.array_ops) is deprecated and will be removed in a future version.\n",
      "Instructions for updating:\n",
      "Use tf.where in 2.0, which has the same broadcast rule as np.where\n"
     ]
    }
   ],
   "source": [
    "net = tflearn.input_data(shape = [None, len(training[0])])\n",
    "net = tflearn.fully_connected(net, 16)\n",
    "net = tflearn.fully_connected(net, 16)\n",
    "net = tflearn.fully_connected(net, len(output[0]), activation = \"softmax\")\n",
    "net = tflearn.regression(net)\n",
    "\n",
    "model = tflearn.DNN(net)"
   ]
  },
  {
   "cell_type": "code",
   "execution_count": 15,
   "metadata": {},
   "outputs": [
    {
     "name": "stdout",
     "output_type": "stream",
     "text": [
      "Training Step: 8999  | total loss: \u001b[1m\u001b[32m0.01797\u001b[0m\u001b[0m | time: 0.054s\n",
      "| Adam | epoch: 1000 | loss: 0.01797 - acc: 0.9902 -- iter: 64/69\n",
      "Training Step: 9000  | total loss: \u001b[1m\u001b[32m0.01663\u001b[0m\u001b[0m | time: 0.063s\n",
      "| Adam | epoch: 1000 | loss: 0.01663 - acc: 0.9912 -- iter: 69/69\n",
      "--\n"
     ]
    }
   ],
   "source": [
    "model.fit(training, output, n_epoch=1000, batch_size=8, show_metric=True)"
   ]
  },
  {
   "cell_type": "code",
   "execution_count": 16,
   "metadata": {},
   "outputs": [
    {
     "name": "stdout",
     "output_type": "stream",
     "text": [
      "INFO:tensorflow:C:\\Users\\Nik's Bot\\Documents\\GitHub\\COVID19-Chatbot\\model.tflearn is not in all_model_checkpoint_paths. Manually adding it.\n"
     ]
    }
   ],
   "source": [
    "model.save(\"model.tflearn\")"
   ]
  },
  {
   "cell_type": "code",
   "execution_count": 17,
   "metadata": {},
   "outputs": [],
   "source": [
    "def bag_of_words(s, words):\n",
    "    bag = [0 for _ in range(len(words))]\n",
    "    \n",
    "    s_words = nltk.word_tokenize(s)\n",
    "    s_words = [stemmer.stem(word.lower()) for word in s_words]\n",
    "    \n",
    "    for se in s_words:\n",
    "        for i, w in enumerate(words):\n",
    "            if w == se:\n",
    "                bag[i] = 1\n",
    "    return np.array(bag)"
   ]
  },
  {
   "cell_type": "code",
   "execution_count": 18,
   "metadata": {},
   "outputs": [],
   "source": [
    "def reply(tag):\n",
    "    with open(\"AnswerIntent.csv\",  encoding=\"utf8\", errors='ignore') as file:\n",
    "        #print(tag)\n",
    "        data = csv.reader(file)\n",
    "\n",
    "        for row in data:\n",
    "            if row[0] == tag:\n",
    "                return row[1]\n",
    "                "
   ]
  },
  {
   "cell_type": "markdown",
   "metadata": {},
   "source": [
    "def chat():\n",
    "    print(\"Let's Talk about COVID-19!\")\n",
    "    while True:\n",
    "        inp = input(\"\\nyou: \")\n",
    "        if inp.lower() == \"quit\":\n",
    "            break\n",
    "        results = model.predict([bag_of_words(inp, words)])[0]\n",
    "        results_index = numpy.argmax(results)\n",
    "        tag = labels[results_index]\n",
    "        if results[results_index] > 0.7:\n",
    "            reply(tag)\n",
    "        else:\n",
    "            print(\"That's out of my scope! Is there anything else I can help you with?\")"
   ]
  },
  {
   "cell_type": "code",
   "execution_count": 22,
   "metadata": {},
   "outputs": [],
   "source": [
    "def get_response(text):\n",
    "    results = model.predict([bag_of_words(text, words)])[0]\n",
    "    results_index = np.argmax(results)\n",
    "    tag = labels[results_index]\n",
    "    if results[results_index] > 0.8:\n",
    "        re = reply(tag)\n",
    "    else:\n",
    "        re = \"That question out of my scope :(, Is there anything else I can help you with?\"\n",
    "    return  re"
   ]
  },
  {
   "cell_type": "code",
   "execution_count": null,
   "metadata": {},
   "outputs": [
    {
     "name": "stdout",
     "output_type": "stream",
     "text": [
      " * Serving Flask app \"__main__\" (lazy loading)\n",
      " * Environment: production\n",
      "   WARNING: This is a development server. Do not use it in a production deployment.\n",
      "   Use a production WSGI server instead.\n",
      " * Debug mode: off\n"
     ]
    },
    {
     "name": "stderr",
     "output_type": "stream",
     "text": [
      " * Running on http://127.0.0.1:5000/ (Press CTRL+C to quit)\n",
      "127.0.0.1 - - [13/Apr/2021 14:35:33] \"\u001b[37mGET / HTTP/1.1\u001b[0m\" 200 -\n",
      "127.0.0.1 - - [13/Apr/2021 14:35:35] \"\u001b[37mGET /get?msg=hi HTTP/1.1\u001b[0m\" 200 -\n",
      "127.0.0.1 - - [13/Apr/2021 14:35:41] \"\u001b[37mGET /get?msg=what%20is%20coid_19 HTTP/1.1\u001b[0m\" 200 -\n",
      "127.0.0.1 - - [13/Apr/2021 14:35:45] \"\u001b[37mGET /get?msg=what%20is%20death%3F HTTP/1.1\u001b[0m\" 200 -\n"
     ]
    }
   ],
   "source": [
    "from flask import Flask, render_template, request\n",
    "\n",
    "app = Flask(__name__)\n",
    "app.static_folder = 'static'\n",
    "\n",
    "@app.route(\"/\")\n",
    "def home():\n",
    "    return render_template(\"index.html\")\n",
    "\n",
    "@app.route(\"/get\")\n",
    "def get_bot_response():\n",
    "    userText = request.args.get('msg')\n",
    "    return str(get_response(userText))\n",
    "\n",
    "if __name__ == \"__main__\":\n",
    "    app.run() "
   ]
  },
  {
   "cell_type": "code",
   "execution_count": null,
   "metadata": {},
   "outputs": [],
   "source": []
  }
 ],
 "metadata": {
  "kernelspec": {
   "display_name": "Python 3",
   "language": "python",
   "name": "python3"
  },
  "language_info": {
   "codemirror_mode": {
    "name": "ipython",
    "version": 3
   },
   "file_extension": ".py",
   "mimetype": "text/x-python",
   "name": "python",
   "nbconvert_exporter": "python",
   "pygments_lexer": "ipython3",
   "version": "3.7.9"
  }
 },
 "nbformat": 4,
 "nbformat_minor": 4
}
